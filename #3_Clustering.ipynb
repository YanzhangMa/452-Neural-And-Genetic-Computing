{
  "nbformat": 4,
  "nbformat_minor": 5,
  "metadata": {
    "accelerator": "GPU",
    "colab": {
      "name": "A3.ipynb",
      "provenance": [],
      "collapsed_sections": []
    },
    "kernelspec": {
      "display_name": "Python 3",
      "language": "python",
      "name": "python3"
    },
    "language_info": {
      "codemirror_mode": {
        "name": "ipython",
        "version": 3
      },
      "file_extension": ".py",
      "mimetype": "text/x-python",
      "name": "python",
      "nbconvert_exporter": "python",
      "pygments_lexer": "ipython3",
      "version": "3.8.9"
    }
  },
  "cells": [
    {
      "cell_type": "markdown",
      "metadata": {
        "id": "cf798513"
      },
      "source": [
        "# CISC 452 Assignment 3 - Unsupervised Learning (100 points)  \n",
        "\n",
        "Please put your name and student id\n",
        "\n",
        "    Yanzhang Ma, #20090412\n",
        "\n",
        "- The notebook file has clearly marked blocks where you are expected to write code. Do not write or modify any code outside of these blocks.\n",
        "- Do not add or delete cells from the notebook.\n",
        "- Run all cells, and do not clear out the outputs, before submitting. You will only get credit for code that has been run.\n",
        "- Make sure to run all the cells from beginning before the submission\n",
        "- Mark will be deducted based on late policy (-10% per day after due date until the end date after which no assignments will be accepted)"
      ],
      "id": "cf798513"
    },
    {
      "cell_type": "markdown",
      "metadata": {
        "id": "VRLNrFDU3dKp"
      },
      "source": [
        "## [Part 1 Simple Competitive Learning (50 points)](#Part-1-Simple-Competitive-Learning)  \n",
        "\n",
        "Build a **Kohonen Network** and use **Maxnet** at the output layer to find the node with the highest activation.  \n",
        "\n",
        "### Build Model (30 points)  \n",
        "Kohonen Network (20 points)  \n",
        "Maxnet (10 points)  \n",
        "\n",
        "### Evaluate Model (20 points)  \n",
        "Use the Kohonen Network to predict the lables with the train and test datasets (10 points)  \n",
        "Evaluate the prediction results (10 points)  \n",
        "- Evaluation matrics include confusion matrix and accuracy\n",
        "\n",
        "## [Part 2 Principle Component Analysis (50 points)](#Part-2-Principle-Component-Analysis)\n",
        "\n",
        "Implement a **PCA Network** (not PCA) to reduce the dimension of the Iris dataset from 4 to 3.  \n",
        "Use the Kohonen Network in Part 1 to train and test on the new dataset.  \n",
        "\n",
        "### Build Model (30 points)  \n",
        "Build PCA Network (20 points)  \n",
        "Train the PCA model and obtain the new datasets with reduced dimension (10 points)  \n",
        "\n",
        "### Evaluate Model (20 points)  \n",
        "Use the Kohonen Network to predict the lables with the new train and test datasets (10 points)  \n",
        "Evaluate the prediction results (10 points)  \n",
        "- Evaluation matrics include confusion matrix and accuracy"
      ],
      "id": "VRLNrFDU3dKp"
    },
    {
      "cell_type": "code",
      "metadata": {
        "id": "b7e6a263"
      },
      "source": [
        "import numpy as np\n",
        "import matplotlib.pyplot as plt\n",
        "from sklearn.model_selection import train_test_split\n",
        "from sklearn.datasets import load_iris"
      ],
      "id": "b7e6a263",
      "execution_count": 51,
      "outputs": []
    },
    {
      "cell_type": "code",
      "metadata": {
        "id": "3a19bd78",
        "colab": {
          "base_uri": "https://localhost:8080/"
        },
        "outputId": "3e7a1db2-0544-40f1-a1c7-d377a4cfe0cf"
      },
      "source": [
        "data = load_iris()\n",
        "x = data.data\n",
        "x = (x - x.mean(axis=0)) / x.std(axis=0)\n",
        "y = data.target\n",
        "data.feature_names, data.target_names"
      ],
      "id": "3a19bd78",
      "execution_count": 52,
      "outputs": [
        {
          "output_type": "execute_result",
          "data": {
            "text/plain": [
              "(['sepal length (cm)',\n",
              "  'sepal width (cm)',\n",
              "  'petal length (cm)',\n",
              "  'petal width (cm)'],\n",
              " array(['setosa', 'versicolor', 'virginica'], dtype='<U10'))"
            ]
          },
          "metadata": {},
          "execution_count": 52
        }
      ]
    },
    {
      "cell_type": "code",
      "metadata": {
        "id": "06c93a78",
        "colab": {
          "base_uri": "https://localhost:8080/"
        },
        "outputId": "837d22b9-3340-447f-9ec3-6dcb9428be95"
      },
      "source": [
        "x_train, x_test, y_train, y_test = train_test_split(x, y, test_size=0.2, random_state=3)\n",
        "x_train.shape, x_test.shape, y_train.shape, y_test.shape"
      ],
      "id": "06c93a78",
      "execution_count": 53,
      "outputs": [
        {
          "output_type": "execute_result",
          "data": {
            "text/plain": [
              "((120, 4), (30, 4), (120,), (30,))"
            ]
          },
          "metadata": {},
          "execution_count": 53
        }
      ]
    },
    {
      "cell_type": "code",
      "metadata": {
        "id": "d236745e"
      },
      "source": [
        "def evaluator(y_test, y_pred):\n",
        "    ####################################################################################################\n",
        "    # enter code here to implement the evaluation matrices including confusion matrix and accuracy\n",
        "    # You can only use Numpy here\n",
        "    cm00=0\n",
        "    cm01=0\n",
        "    cm02=0\n",
        "    cm10=0\n",
        "    cm11=0\n",
        "    cm12=0\n",
        "    cm20=0\n",
        "    cm21=0\n",
        "    cm22=0\n",
        "    for i,j in zip(y_test, y_pred):\n",
        "        if i==j==0:\n",
        "            cm00+=1\n",
        "        elif (i==0) and (j==1):\n",
        "            cm01+=1\n",
        "        elif (i==0) and (j==2):\n",
        "            cm02+=1\n",
        "        elif (i==1) and (j==0):\n",
        "            cm10+=1\n",
        "        elif (i==1) and (j==1):\n",
        "            cm11+=1\n",
        "        elif (i==1) and (j==2):\n",
        "            cm12+=1\n",
        "        elif (i==2) and (j==0):\n",
        "            cm20+=1\n",
        "        elif (i==2) and (j==1):\n",
        "            cm21+=1\n",
        "        elif (i==2) and (j==2):\n",
        "            cm22+=1\n",
        "            \n",
        "    confusion_matrix = [[cm00,cm01,cm02],[cm10,cm11,cm12],[cm20,cm21,cm22]]\n",
        "    print(\"Confusion Matrix:\\n\",confusion_matrix)\n",
        "    accuracy = np.mean(np.equal(np.array(y_pred),np.array(y_test)))\n",
        "    print(\"accuracy:\\n\",accuracy)\n",
        "\n",
        "    ####################################################################################################"
      ],
      "id": "d236745e",
      "execution_count": 54,
      "outputs": []
    },
    {
      "cell_type": "code",
      "metadata": {
        "id": "8cacb4f0",
        "colab": {
          "base_uri": "https://localhost:8080/"
        },
        "outputId": "02de4d36-333e-43ad-d3b1-56cd64a6d4bf"
      },
      "source": [
        "# build a baseline model with K-Means\n",
        "from sklearn.cluster import KMeans\n",
        "km = KMeans(n_clusters=3) #n_clusters - the number of clusters\n",
        "km.fit(x_train)\n",
        "y_pred = km.predict(x_train)\n",
        "evaluator(y_train, y_pred)\n",
        "y_pred = km.predict(x_test)\n",
        "evaluator(y_test, y_pred)"
      ],
      "id": "8cacb4f0",
      "execution_count": 55,
      "outputs": [
        {
          "output_type": "stream",
          "name": "stdout",
          "text": [
            "Confusion Matrix:\n",
            " [[40, 0, 0], [0, 8, 32], [0, 26, 14]]\n",
            "accuracy:\n",
            " 0.5166666666666667\n",
            "Confusion Matrix:\n",
            " [[10, 0, 0], [0, 3, 7], [0, 7, 3]]\n",
            "accuracy:\n",
            " 0.5333333333333333\n"
          ]
        }
      ]
    },
    {
      "cell_type": "markdown",
      "metadata": {
        "id": "4e4a6b06"
      },
      "source": [
        "## Part 1 Simple Competitive Learning"
      ],
      "id": "4e4a6b06"
    },
    {
      "cell_type": "code",
      "metadata": {
        "id": "29d82a53"
      },
      "source": [
        "####################################################################################################\n",
        "# enter code here to build the Kohonen Network with Maxnet\n",
        "class Kohonen(object):\n",
        "    def __init__(self):\n",
        "      self.output = 3\n",
        "      self.learning_rate = 0.2\n",
        "      self.bias = 1\n",
        "\n",
        "    \n",
        "    def train(self, x, n_epoch=20):\n",
        "      n_train, input = x.shape\n",
        "      self.weights = np.random.random((self.output, input))\n",
        "      for i in range(n_epoch):\n",
        "        for xi in x:\n",
        "          d_1 = np.linalg.norm(xi-self.weights[0])\n",
        "          d_2 = np.linalg.norm(xi-self.weights[1])\n",
        "          d_3 = np.linalg.norm(xi-self.weights[2])\n",
        "          vector=np.array([d_1,d_2,d_3])\n",
        "          winner = self.Maxnet(vector)\n",
        "          for w in range(len(self.weights[winner])):\n",
        "            d = xi[w] - self.weights[winner][w]\n",
        "            self.weights[winner][w]+=self.learning_rate*d\n",
        "    \n",
        "    def predict(self, x):\n",
        "      output = []\n",
        "      for i in x:\n",
        "        d_1 = np.linalg.norm(i-self.weights[0])\n",
        "        d_2 = np.linalg.norm(i-self.weights[1])\n",
        "        d_3 = np.linalg.norm(i-self.weights[2]) \n",
        "        vector = np.array([d_1,d_2,d_3])\n",
        "        winner = self.Maxnet(vector)\n",
        "        output.append(winner)\n",
        "      y_pred = output\n",
        "      return y_pred\n",
        "    \n",
        "    def Maxnet(self, vector):\n",
        "      while True:\n",
        "        for i in range(np.size(vector)):\n",
        "          vector[i] = max(0, vector[i] - 1/np.size(vector)*np.sum(np.delete(vector,i)))\n",
        "        if np.size(np.nonzero(vector)) == 1:\n",
        "          break\n",
        "      return np.nonzero(vector)[0][0]\n",
        "\n",
        "\n",
        "\n",
        "####################################################################################################"
      ],
      "id": "29d82a53",
      "execution_count": 56,
      "outputs": []
    },
    {
      "cell_type": "code",
      "metadata": {
        "id": "8773264b",
        "colab": {
          "base_uri": "https://localhost:8080/"
        },
        "outputId": "731cfe8f-f5d4-4244-c8d3-a6b6591571cd"
      },
      "source": [
        "####################################################################################################\n",
        "# enter code here to train and test the Kohonen Network\n",
        "kohonen = Kohonen()\n",
        "kohonen.train(x_train, n_epoch = 20)\n",
        "y_pred = kohonen.predict(x_train)\n",
        "evaluator(y_train, y_pred)\n",
        "y_pred = kohonen.predict(x_test)\n",
        "evaluator(y_test, y_pred)\n",
        "\n",
        "####################################################################################################"
      ],
      "id": "8773264b",
      "execution_count": 57,
      "outputs": [
        {
          "output_type": "stream",
          "name": "stdout",
          "text": [
            "Confusion Matrix:\n",
            " [[0, 0, 40], [0, 6, 34], [0, 0, 40]]\n",
            "accuracy:\n",
            " 0.38333333333333336\n",
            "Confusion Matrix:\n",
            " [[0, 0, 10], [0, 0, 10], [0, 0, 10]]\n",
            "accuracy:\n",
            " 0.3333333333333333\n"
          ]
        }
      ]
    },
    {
      "cell_type": "markdown",
      "metadata": {
        "id": "dc90cf0e"
      },
      "source": [
        "## Part 2 Principle Component Analysis"
      ],
      "id": "dc90cf0e"
    },
    {
      "cell_type": "code",
      "metadata": {
        "id": "396825d9"
      },
      "source": [
        "####################################################################################################\n",
        "# enter code here to build the PCA model\n",
        "class PCA(object):\n",
        "    def __init__(self, learning_rate=0.2, input_feature=4, output_feature=3):\n",
        "      self.learning_rate = learning_rate\n",
        "      self.weights= np.random.random((output_feature, input_feature))\n",
        "    \n",
        "    def train(self, X, n_epoch = 10):\n",
        "      for i in range(n_epoch):\n",
        "        for x in X:\n",
        "          output = np.matmul(self.weights, x)\n",
        "          for a in range(len(output)):\n",
        "            for b in range(len(x)):\n",
        "              d=output[a]*(x[b] - np.sum(output*np.transpose(self.weights)[b]))\n",
        "              feature=self.learning_rate*d\n",
        "              self.weights[a][b]+=feature\n",
        "    \n",
        "    def predict(self, X):\n",
        "      output = []\n",
        "      for i in X:\n",
        "        X_feature = np.matmul(self.weights, i)\n",
        "        output.append(X_feature)\n",
        "      return np.array(output)\n",
        "\n",
        "\n",
        "####################################################################################################"
      ],
      "id": "396825d9",
      "execution_count": 106,
      "outputs": []
    },
    {
      "cell_type": "code",
      "metadata": {
        "id": "3e567f44",
        "colab": {
          "base_uri": "https://localhost:8080/"
        },
        "outputId": "8991ce33-1aec-4204-e2ef-087fc2599944"
      },
      "source": [
        "####################################################################################################\n",
        "# enter code here to train the PCA model and obtain the new train and test datasets\n",
        "pca=PCA()\n",
        "pca.train(x_train)\n",
        "x_train_PCA=pca.predict(x_train)\n",
        "x_test_PCA=pca.predict(x_test)\n",
        "print('Final weight is:\\n', pca.weights)\n",
        "\n",
        "####################################################################################################"
      ],
      "id": "3e567f44",
      "execution_count": 107,
      "outputs": [
        {
          "output_type": "stream",
          "name": "stdout",
          "text": [
            "Final weight is:\n",
            " [[-0.46183731  0.8027779   0.1042786   0.36870339]\n",
            " [ 0.45099482 -0.08745199  0.68591993  0.5720076 ]\n",
            " [ 0.73350428  0.583829   -0.14649012 -0.31399076]]\n"
          ]
        }
      ]
    },
    {
      "cell_type": "code",
      "metadata": {
        "id": "ab8d49b7",
        "colab": {
          "base_uri": "https://localhost:8080/"
        },
        "outputId": "557b4a19-a9eb-46af-844b-4abad0a17e5a"
      },
      "source": [
        "####################################################################################################\n",
        "# enter code here to train and test the Kohonen Network with the new datasets\n",
        "trained_kohonen = Kohonen()\n",
        "trained_kohonen.train(x_train_PCA, n_epoch = 10)\n",
        "y_pred = trained_kohonen.predict(x_train_PCA)\n",
        "evaluator(y_train, y_pred)\n",
        "y_pred = trained_kohonen.predict(x_test_PCA)\n",
        "evaluator(y_test, y_pred)\n",
        "\n",
        "####################################################################################################"
      ],
      "id": "ab8d49b7",
      "execution_count": 108,
      "outputs": [
        {
          "output_type": "stream",
          "name": "stdout",
          "text": [
            "Confusion Matrix:\n",
            " [[0, 0, 40], [0, 6, 34], [0, 0, 40]]\n",
            "accuracy:\n",
            " 0.38333333333333336\n",
            "Confusion Matrix:\n",
            " [[0, 0, 10], [0, 1, 9], [0, 0, 10]]\n",
            "accuracy:\n",
            " 0.36666666666666664\n"
          ]
        }
      ]
    }
  ]
}